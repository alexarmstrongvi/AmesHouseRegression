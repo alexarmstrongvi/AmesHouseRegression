{
 "cells": [
  {
   "cell_type": "markdown",
   "id": "regulation-spain",
   "metadata": {},
   "source": [
    "# Predicting House Prices using the Ames Housing Dataset"
   ]
  },
  {
   "cell_type": "markdown",
   "id": "upset-three",
   "metadata": {},
   "source": [
    "## Summary"
   ]
  },
  {
   "cell_type": "markdown",
   "id": "million-insured",
   "metadata": {},
   "source": [
    "Below is the finalized model strategy. For exploratory data analysis and the justification for model choices, see other notebook. "
   ]
  },
  {
   "cell_type": "markdown",
   "id": "mental-leisure",
   "metadata": {},
   "source": [
    "## Notebook"
   ]
  },
  {
   "cell_type": "code",
   "execution_count": 1,
   "id": "magnetic-bennett",
   "metadata": {},
   "outputs": [],
   "source": [
    "# Imports\n",
    "## 3rd-party\n",
    "from tabulate import tabulate\n",
    "import numpy as np\n",
    "import pandas as pd\n",
    "import matplotlib.pyplot as plt\n",
    "import seaborn as sns; sns.set()\n",
    "from scipy import stats\n",
    "from sklearn import linear_model, model_selection, impute, metrics\n",
    "\n",
    "## Built-in\n",
    "from collections import Counter, defaultdict\n",
    "import os"
   ]
  },
  {
   "cell_type": "code",
   "execution_count": 4,
   "id": "amended-commander",
   "metadata": {},
   "outputs": [],
   "source": [
    "# Load files\n",
    "data_dir = '.'\n",
    "df_train = pd.read_csv(f'{data_dir}/train.csv')\n",
    "df_test = pd.read_csv(f'{data_dir}/test.csv')\n",
    "\n",
    "# Combine\n",
    "df_train['train_test'] = 'train'\n",
    "df_test['train_test']  = 'test'\n",
    "df_data = pd.concat([df_train,df_test], ignore_index=True)"
   ]
  },
  {
   "cell_type": "code",
   "execution_count": null,
   "id": "comfortable-xerox",
   "metadata": {},
   "outputs": [],
   "source": [
    "features_by_type = {\n",
    "    'continuous' : [\n",
    "        \n",
    "    ],\n",
    "    'discrete' : [\n",
    "        \n",
    "    ],\n",
    "    'ordinal' : [\n",
    "        \n",
    "    ]\n",
    "    'nominal' : [\n",
    "        \n",
    "    ]\n",
    "}\n",
    "feature_by_type['numerical']   = feature_by_type['continuous'] + feature_by_type['discrete']\n",
    "feature_by_type['categorical'] = feature_by_type['ordinal']    + feature_by_type['nominal']"
   ]
  },
  {
   "cell_type": "code",
   "execution_count": 5,
   "id": "advanced-breach",
   "metadata": {},
   "outputs": [],
   "source": [
    "# Clean Data\n",
    "## Entry Selection\n",
    "## Handle Missing Values\n",
    "## Feature Selection\n",
    "## Update Data types"
   ]
  },
  {
   "cell_type": "code",
   "execution_count": null,
   "id": "small-disposition",
   "metadata": {},
   "outputs": [],
   "source": [
    "# Feature Engineering\n",
    "## Encode cateogorical features\n",
    "## Define new features\n",
    "## Dimensionality Reduction"
   ]
  },
  {
   "cell_type": "code",
   "execution_count": null,
   "id": "optimum-suspect",
   "metadata": {},
   "outputs": [],
   "source": [
    "# Model training\n",
    "## Linear regression\n",
    "## Decision tree\n",
    "## kNN\n",
    "## XGBoost\n",
    "## MLP Classifier"
   ]
  },
  {
   "cell_type": "code",
   "execution_count": null,
   "id": "pregnant-texas",
   "metadata": {},
   "outputs": [],
   "source": [
    "# Model Assessment"
   ]
  },
  {
   "cell_type": "code",
   "execution_count": null,
   "id": "played-auction",
   "metadata": {},
   "outputs": [],
   "source": [
    "# Build a pipeline\n",
    "class Preprocessor(BaseEstimator, TransformerMixin):\n",
    "    def fit(self, X, y=None):\n",
    "        pass\n",
    "    def transform(self, X, y=None):\n",
    "        pass\n",
    "\n",
    "regressor = LinearRegression()\n",
    "\n",
    "pipe = Pipeline([\n",
    "    ('Preprocessor', preprocessor),\n",
    "    ('Regressor',    regressor)\n",
    "])\n",
    "\n",
    "pipe.fit(X_train, y_train)\n",
    "y_pred = pipe.predict(X_newdata)\n",
    "\n",
    "summarize_performance(pipe, X_train)"
   ]
  },
  {
   "cell_type": "markdown",
   "id": "rational-drilling",
   "metadata": {},
   "source": [
    "# Conclusion"
   ]
  },
  {
   "cell_type": "code",
   "execution_count": null,
   "id": "physical-amazon",
   "metadata": {},
   "outputs": [],
   "source": []
  }
 ],
 "metadata": {
  "kernelspec": {
   "display_name": "Python 3",
   "language": "python",
   "name": "python3"
  },
  "language_info": {
   "codemirror_mode": {
    "name": "ipython",
    "version": 3
   },
   "file_extension": ".py",
   "mimetype": "text/x-python",
   "name": "python",
   "nbconvert_exporter": "python",
   "pygments_lexer": "ipython3",
   "version": "3.8.5"
  }
 },
 "nbformat": 4,
 "nbformat_minor": 5
}
